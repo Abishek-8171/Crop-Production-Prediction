{
 "cells": [
  {
   "cell_type": "code",
   "execution_count": null,
   "metadata": {},
   "outputs": [],
   "source": [
    "import pandas as pd\n",
    "import sqlalchemy\n",
    "import plotly.express as px\n",
    "import plotly.graph_objects as go\n",
    "import matplotlib.pyplot as plt"
   ]
  },
  {
   "cell_type": "code",
   "execution_count": 2,
   "metadata": {},
   "outputs": [],
   "source": [
    "# Convertig Excel file into a Dataframe\n",
    "main_data = pd.read_excel(r'E:\\Mini_project_2\\FAOSTAT_data.xlsx')"
   ]
  },
  {
   "cell_type": "markdown",
   "metadata": {},
   "source": [
    "**Droping unwanted columns**"
   ]
  },
  {
   "cell_type": "code",
   "execution_count": 4,
   "metadata": {},
   "outputs": [],
   "source": [
    "main_data.drop(columns='Flag',inplace=True)"
   ]
  },
  {
   "cell_type": "code",
   "execution_count": 5,
   "metadata": {},
   "outputs": [],
   "source": [
    "main_data.drop(columns='Flag Description',inplace=True)"
   ]
  },
  {
   "cell_type": "code",
   "execution_count": 6,
   "metadata": {},
   "outputs": [],
   "source": [
    "main_data.drop(columns='Note',inplace=True)"
   ]
  },
  {
   "cell_type": "code",
   "execution_count": 7,
   "metadata": {},
   "outputs": [],
   "source": [
    "main_data.drop(columns='Year Code',inplace=True)"
   ]
  },
  {
   "cell_type": "code",
   "execution_count": null,
   "metadata": {},
   "outputs": [],
   "source": [
    "#Checking null values\n",
    "main_data.isna().sum()"
   ]
  },
  {
   "cell_type": "code",
   "execution_count": null,
   "metadata": {},
   "outputs": [],
   "source": [
    "IC_null = main_data[main_data['Item Code (CPC)'].isna()]"
   ]
  },
  {
   "cell_type": "code",
   "execution_count": null,
   "metadata": {},
   "outputs": [],
   "source": [
    "IC_check= main_data[(main_data['Area']== 'Afghanistan') & (main_data['Item']=='Oranges')]\n"
   ]
  },
  {
   "cell_type": "code",
   "execution_count": null,
   "metadata": {},
   "outputs": [],
   "source": [
    "#Forward filling for item code column\n",
    "\n",
    "main_data['Item Code (CPC)'].fillna(method='ffill',inplace=True)"
   ]
  },
  {
   "cell_type": "code",
   "execution_count": null,
   "metadata": {},
   "outputs": [],
   "source": [
    "main_data[main_data['Unit'].isna()]"
   ]
  },
  {
   "cell_type": "code",
   "execution_count": null,
   "metadata": {},
   "outputs": [],
   "source": [
    "Unit_check1=main_data[(main_data['Area']== 'Afghanistan') & (main_data['Element']== 'Production')  & (main_data['Item']=='Hen eggs in shell, fresh') ]"
   ]
  },
  {
   "cell_type": "code",
   "execution_count": null,
   "metadata": {},
   "outputs": [],
   "source": [
    "Unit_check2=main_data[(main_data['Area']== 'Afghanistan') & (main_data['Element']== 'Yield')  & (main_data['Item']=='Linseed') ]"
   ]
  },
  {
   "cell_type": "code",
   "execution_count": null,
   "metadata": {},
   "outputs": [],
   "source": [
    "# Find indexes of NaN values in a \"Unit\" column\n",
    "unit_index = main_data[main_data[\"Unit\"].isna()].index"
   ]
  },
  {
   "cell_type": "code",
   "execution_count": 16,
   "metadata": {},
   "outputs": [],
   "source": [
    "# Replace NaN at specific positions with different values\n",
    "main_data.loc[unit_index[0], \"Unit\"] = \"t\"\n",
    "main_data.loc[unit_index[1], \"Unit\"] = \"kg/ha\""
   ]
  },
  {
   "cell_type": "markdown",
   "metadata": {},
   "source": [
    "**Handling values column**"
   ]
  },
  {
   "cell_type": "code",
   "execution_count": 17,
   "metadata": {},
   "outputs": [],
   "source": [
    "vaule_nan=main_data[main_data['Value'].isna()]"
   ]
  },
  {
   "cell_type": "code",
   "execution_count": 19,
   "metadata": {},
   "outputs": [],
   "source": [
    "# Droping null value rows\n",
    "data=main_data.dropna()"
   ]
  },
  {
   "cell_type": "code",
   "execution_count": null,
   "metadata": {},
   "outputs": [],
   "source": [
    "#Checking null values\n",
    "data.isna().sum()"
   ]
  },
  {
   "cell_type": "code",
   "execution_count": null,
   "metadata": {},
   "outputs": [],
   "source": [
    "#droping rows with '1000 no'\n",
    "data.drop(data[data['Unit'] =='1000 No'].index, inplace=True)\n"
   ]
  },
  {
   "cell_type": "code",
   "execution_count": null,
   "metadata": {},
   "outputs": [],
   "source": [
    "# Filtering rows with elemets 'Area harvested', 'Yield','Production'. \n",
    "data_fil = data[data['Element'].isin(['Area harvested', 'Yield','Production'])]"
   ]
  },
  {
   "cell_type": "code",
   "execution_count": null,
   "metadata": {},
   "outputs": [],
   "source": [
    "# selecting columns for transform\n",
    "pre_trasform=data_fil[['Domain Code','Domain','Area Code (M49)','Element','Area','Item Code (CPC)','Item','Year','Value']]"
   ]
  },
  {
   "cell_type": "markdown",
   "metadata": {},
   "source": [
    "**Transforming dataset**"
   ]
  },
  {
   "cell_type": "code",
   "execution_count": 25,
   "metadata": {},
   "outputs": [],
   "source": [
    "df_transformed = pre_trasform.pivot_table(\n",
    "    index=[\"Domain Code\", \"Domain\", \"Area Code (M49)\", \"Area\", \"Item Code (CPC)\", \n",
    "           \"Item\",\"Year\"],\n",
    "    columns=\"Element\",\n",
    "    values=\"Value\",\n",
    "    aggfunc=\"first\"  \n",
    ").reset_index()\n",
    "# Use 'first' to avoid aggregation issues"
   ]
  },
  {
   "cell_type": "code",
   "execution_count": null,
   "metadata": {},
   "outputs": [],
   "source": [
    "#Cheacking null values\n",
    "df_transformed.isna().sum()"
   ]
  },
  {
   "cell_type": "code",
   "execution_count": 27,
   "metadata": {},
   "outputs": [],
   "source": [
    "#where no prodction monitored\n",
    "no_production=df_transformed[df_transformed['Production'].isna()]"
   ]
  },
  {
   "cell_type": "code",
   "execution_count": 28,
   "metadata": {},
   "outputs": [],
   "source": [
    "#Droping the rows with no production\n",
    "FOA_Data=df_transformed.dropna(subset=['Production'])"
   ]
  },
  {
   "cell_type": "code",
   "execution_count": 30,
   "metadata": {},
   "outputs": [],
   "source": [
    "#selecting columns\n",
    "FOA_Data_complete=FOA_Data[['Area','Item','Year','Area harvested',\n",
    "                   'Yield','Production']]"
   ]
  },
  {
   "cell_type": "code",
   "execution_count": 32,
   "metadata": {},
   "outputs": [],
   "source": [
    "#Droping rows with null values\n",
    "FOA_Data_final=FOA_Data_complete.dropna()"
   ]
  },
  {
   "cell_type": "markdown",
   "metadata": {},
   "source": [
    "**Final dataset**"
   ]
  },
  {
   "cell_type": "code",
   "execution_count": null,
   "metadata": {},
   "outputs": [],
   "source": [
    "FOA_Data_final.columns"
   ]
  },
  {
   "cell_type": "code",
   "execution_count": null,
   "metadata": {},
   "outputs": [],
   "source": [
    "#checking duplicates\n",
    "print(FOA_Data_final.duplicated().sum())"
   ]
  },
  {
   "cell_type": "code",
   "execution_count": null,
   "metadata": {},
   "outputs": [],
   "source": [
    "#checking null values\n",
    "FOA_Data_final.isna().sum()"
   ]
  },
  {
   "cell_type": "code",
   "execution_count": null,
   "metadata": {},
   "outputs": [],
   "source": [
    "FOA_Data_final.info()"
   ]
  },
  {
   "cell_type": "markdown",
   "metadata": {},
   "source": [
    "**Transferring Data to SQL**"
   ]
  },
  {
   "cell_type": "code",
   "execution_count": null,
   "metadata": {},
   "outputs": [],
   "source": [
    "\n",
    "from sqlalchemy import create_engine\n",
    "host = \"localhost\"\n",
    "port =\"5432\"\n",
    "username = \"postgres\" \n",
    "password = \"begin25\"\n",
    "db_name = \"Crop_data\"\n",
    "\n",
    "connector =f\"postgresql://{username}:{password}@{host}:{port}/{db_name}\" #must follow this syntax\n",
    "\n",
    "engine = create_engine(connector)\n",
    "\n",
    "table_name =\"FAO_data\"\n",
    "\n",
    "FOA_Data_final.to_sql(table_name,engine,if_exists=\"replace\",index= False)\n",
    "\n",
    "print(\"Data Transferred Successfully\")"
   ]
  },
  {
   "cell_type": "markdown",
   "metadata": {},
   "source": [
    "***EDA***"
   ]
  },
  {
   "cell_type": "markdown",
   "metadata": {},
   "source": [
    "Analyze Crop Distribution"
   ]
  },
  {
   "cell_type": "code",
   "execution_count": null,
   "metadata": {},
   "outputs": [],
   "source": [
    "#Crop Types\n",
    "ct=FOA_Data_final['Item'].value_counts(ascending=False).reset_index(name='Cultivation_count')\n",
    "top10_max=ct.head(10)"
   ]
  },
  {
   "cell_type": "code",
   "execution_count": null,
   "metadata": {},
   "outputs": [],
   "source": [
    "ct_min=FOA_Data_final['Item'].value_counts(ascending=True).reset_index(name='Cultivation_count')\n",
    "top10_min=ct_min.head(10)"
   ]
  },
  {
   "cell_type": "code",
   "execution_count": null,
   "metadata": {},
   "outputs": [],
   "source": [
    "max_crop=px.bar(top10_max,x='Item',y='Cultivation_count')\n",
    "max_crop.update_layout(title='Maximum cultivated items during the year 2019 to 2023')\n",
    "max_crop.show()"
   ]
  },
  {
   "cell_type": "code",
   "execution_count": null,
   "metadata": {},
   "outputs": [],
   "source": [
    "min_crop=px.bar(top10_min,x='Item',y='Cultivation_count')\n",
    "min_crop.update_layout(title='Minimum cultivated items during the year 2019 to 2023')\n",
    "min_crop.show()"
   ]
  },
  {
   "cell_type": "code",
   "execution_count": null,
   "metadata": {},
   "outputs": [],
   "source": [
    "#Geographical Distribution\n",
    "\n",
    "gd=FOA_Data_final[['Area','Item']]"
   ]
  },
  {
   "cell_type": "code",
   "execution_count": null,
   "metadata": {},
   "outputs": [],
   "source": [
    "gd_analysis=gd.value_counts().reset_index(name='cultivated_count')"
   ]
  },
  {
   "cell_type": "code",
   "execution_count": null,
   "metadata": {},
   "outputs": [],
   "source": [
    " #idxmax() - to find highest cultivated crop type in each country\n",
    "gd_most = gd_analysis.loc[gd_analysis.groupby(\"Area\")[\"cultivated_count\"].idxmax()] "
   ]
  },
  {
   "cell_type": "code",
   "execution_count": null,
   "metadata": {},
   "outputs": [],
   "source": [
    "fig_gd = px.scatter_geo(gd_most, \n",
    "                     locations=\"Area\", \n",
    "                     locationmode=\"country names\", \n",
    "                     hover_data={'Item','cultivated_count'},\n",
    "                     title=\"Geographical Distribution by Country\",\n",
    "                     projection=\"orthographic\")\n",
    "\n",
    "fig_gd.show()"
   ]
  },
  {
   "cell_type": "markdown",
   "metadata": {},
   "source": [
    "**Temporal Analysis**"
   ]
  },
  {
   "cell_type": "code",
   "execution_count": null,
   "metadata": {},
   "outputs": [],
   "source": [
    "#Yearly Trends & Growth Analysis\n",
    "\n",
    "yt=FOA_Data_final[['Area','Year','Area harvested','Yield','Production']]"
   ]
  },
  {
   "cell_type": "code",
   "execution_count": null,
   "metadata": {},
   "outputs": [],
   "source": [
    "year_Area_harvested = yt.groupby([\"Area\", \"Year\"])[\"Area harvested\"].sum().reset_index()"
   ]
  },
  {
   "cell_type": "code",
   "execution_count": null,
   "metadata": {},
   "outputs": [],
   "source": [
    "year_Yield=yt.groupby([\"Area\", \"Year\"])[\"Yield\"].sum().reset_index()"
   ]
  },
  {
   "cell_type": "code",
   "execution_count": null,
   "metadata": {},
   "outputs": [],
   "source": [
    "year_Production=yt.groupby([\"Area\", \"Year\"])[\"Production\"].sum().reset_index()"
   ]
  },
  {
   "cell_type": "code",
   "execution_count": null,
   "metadata": {},
   "outputs": [],
   "source": [
    "yt_Area_harvested = px.line(year_Area_harvested, x=\"Year\", y=\"Area harvested\", color=\"Area\", markers=True, \n",
    "              title=\"Yearly Trends in Area harvested across the Countries\")\n",
    "yt_Area_harvested.show()"
   ]
  },
  {
   "cell_type": "code",
   "execution_count": null,
   "metadata": {},
   "outputs": [],
   "source": [
    "yt_Yield = px.line(year_Yield, x=\"Year\", y=\"Yield\", color=\"Area\", markers=True, \n",
    "              title=\"Yearly Trends in Yield across the Countries\")\n",
    "yt_Yield.show()\n"
   ]
  },
  {
   "cell_type": "code",
   "execution_count": null,
   "metadata": {},
   "outputs": [],
   "source": [
    "yt_Production = px.line(year_Production, x=\"Year\", y=\"Production\", color=\"Area\", markers=True, \n",
    "              title=\"Yearly Trends in Production(tons) across the Countries\")\n",
    "yt_Production.show()"
   ]
  },
  {
   "cell_type": "markdown",
   "metadata": {},
   "source": [
    "**Input-Output Relationships**"
   ]
  },
  {
   "cell_type": "code",
   "execution_count": 99,
   "metadata": {},
   "outputs": [],
   "source": [
    "correlation_check = FOA_Data_final[['Area harvested','Yield','Production']]"
   ]
  },
  {
   "cell_type": "code",
   "execution_count": null,
   "metadata": {},
   "outputs": [],
   "source": [
    "import seaborn as sns\n",
    "\n",
    "# Plot heatmap for correlation\n",
    "plt.figure(figsize=(6,4))\n",
    "sns.heatmap(correlation_check.corr(), annot=True,vmax=1,vmin=-1)\n",
    "plt.title(\"Correlation Heatmap\")\n",
    "plt.show()\n"
   ]
  },
  {
   "cell_type": "markdown",
   "metadata": {},
   "source": [
    "**Comparative Analysis**"
   ]
  },
  {
   "cell_type": "code",
   "execution_count": null,
   "metadata": {},
   "outputs": [],
   "source": [
    "#Across Crops\n",
    "\n",
    "com_analysis_yield=FOA_Data_final[['Item','Yield']]"
   ]
  },
  {
   "cell_type": "code",
   "execution_count": null,
   "metadata": {},
   "outputs": [],
   "source": [
    "total_yield=com_analysis_yield.groupby('Item')['Yield'].sum().reset_index()"
   ]
  },
  {
   "cell_type": "code",
   "execution_count": 113,
   "metadata": {},
   "outputs": [],
   "source": [
    "high_yield=total_yield.sort_values(by=\"Yield\", ascending=False)\n",
    "low_yield=total_yield.sort_values(by=\"Yield\", ascending=True)"
   ]
  },
  {
   "cell_type": "code",
   "execution_count": null,
   "metadata": {},
   "outputs": [],
   "source": [
    "fig_hyc=px.bar(high_yield.head(10),x='Item',y='Yield',color=\"Item\", title=\"Highest yield Crops\")\n",
    "fig_hyc.show()"
   ]
  },
  {
   "cell_type": "code",
   "execution_count": null,
   "metadata": {},
   "outputs": [],
   "source": [
    "fig_lyc=px.bar(low_yield.head(10),x='Item',y='Yield',color=\"Item\", title=\"Lowest yield Crops\")\n",
    "fig_lyc.show()"
   ]
  },
  {
   "cell_type": "code",
   "execution_count": null,
   "metadata": {},
   "outputs": [],
   "source": [
    "productive_analysis=FOA_Data_final[['Area','Production']]"
   ]
  },
  {
   "cell_type": "code",
   "execution_count": null,
   "metadata": {},
   "outputs": [],
   "source": [
    "total_Production=productive_analysis.groupby('Area')['Production'].sum().reset_index()"
   ]
  },
  {
   "cell_type": "code",
   "execution_count": null,
   "metadata": {},
   "outputs": [],
   "source": [
    "high_production=total_Production.sort_values(by=\"Production\", ascending=False)"
   ]
  },
  {
   "cell_type": "code",
   "execution_count": null,
   "metadata": {},
   "outputs": [],
   "source": [
    "fig=px.bar(high_production.head(10),x='Area',y='Production',color=\"Area\", title=\"Highly Productive Regions(2019-2023)\")\n",
    "fig.show()"
   ]
  },
  {
   "cell_type": "code",
   "execution_count": null,
   "metadata": {},
   "outputs": [],
   "source": [
    "fig_geo=px.scatter_geo(high_production,locations='Area',locationmode='country names',hover_data='Production',size='Production',color='Area',\n",
    "                   title=\"Highly Productive Regions(2019-2023)\", projection=\"orthographic\")\n",
    "fig_geo.show()"
   ]
  },
  {
   "cell_type": "markdown",
   "metadata": {},
   "source": [
    "**Productivity Analysis**"
   ]
  },
  {
   "cell_type": "code",
   "execution_count": 101,
   "metadata": {},
   "outputs": [],
   "source": [
    "yield_analysis=FOA_Data_final[['Area','Item','Yield']]"
   ]
  },
  {
   "cell_type": "code",
   "execution_count": null,
   "metadata": {},
   "outputs": [],
   "source": [
    "yield_analysis_total=yield_analysis.groupby(['Area','Item'])['Yield'].sum().reset_index()"
   ]
  },
  {
   "cell_type": "code",
   "execution_count": null,
   "metadata": {},
   "outputs": [],
   "source": [
    "productive_analysis_yield=yield_analysis_total.sort_values(by=\"Yield\", ascending=False)\n",
    "productive_analysis_yield.head(10)"
   ]
  },
  {
   "cell_type": "code",
   "execution_count": null,
   "metadata": {},
   "outputs": [],
   "source": [
    "fig = px.bar(productive_analysis_yield.head(10), x=\"Item\", y=\"Yield\", color=\"Area\", title=\"High yield by Crop & Region\")\n",
    "fig.show()\n"
   ]
  },
  {
   "cell_type": "markdown",
   "metadata": {},
   "source": [
    "**Outlier Detection**"
   ]
  },
  {
   "cell_type": "code",
   "execution_count": null,
   "metadata": {},
   "outputs": [],
   "source": [
    "#Outlier Area harvested column\n",
    "Q1_Area_harvested=FOA_Data_final['Area harvested'].quantile(0.25)\n",
    "Q3_Area_harvested=FOA_Data_final['Area harvested'].quantile(0.75)\n",
    "\n",
    "IQR_Area_harvested=Q3_Area_harvested-Q1_Area_harvested\n",
    "\n",
    "print(f'Q1_Area_harvested:{Q1_Area_harvested}\\nQ3_Area_harvested:{Q3_Area_harvested}\\nIQR_Area_harvested:{IQR_Area_harvested}')"
   ]
  },
  {
   "cell_type": "code",
   "execution_count": null,
   "metadata": {},
   "outputs": [],
   "source": [
    "#Outlier Yield column\n",
    "Q1_Yield=FOA_Data_final['Yield'].quantile(0.25)\n",
    "Q3_Yield=FOA_Data_final['Yield'].quantile(0.75)\n",
    "\n",
    "IQR_Yield=Q3_Yield-Q1_Yield\n",
    "\n",
    "print(f'Q1_Yield:{Q1_Yield}\\nQ3_Yield:{Q3_Yield}\\nIQR_Yield:{IQR_Yield}')"
   ]
  },
  {
   "cell_type": "code",
   "execution_count": null,
   "metadata": {},
   "outputs": [],
   "source": [
    "#Outlier Production column\n",
    "Q1_Production=FOA_Data_final['Production'].quantile(0.25)\n",
    "Q3_Production=FOA_Data_final['Production'].quantile(0.75)\n",
    "\n",
    "IQR_Production=Q3_Production-Q1_Production\n",
    "\n",
    "print(f'Q1_Production:{Q1_Production}\\nQ3_Production:{Q3_Production}\\nIQR_Production:{IQR_Production}')"
   ]
  },
  {
   "cell_type": "code",
   "execution_count": null,
   "metadata": {},
   "outputs": [],
   "source": [
    "lb_AreaHarvested= Q1_Area_harvested - 1.5 * IQR_Area_harvested\n",
    "\n",
    "up_AreaHarvested= Q3_Area_harvested + 1.5 * IQR_Area_harvested\n",
    "\n",
    "print(f'Area harvested Outlier \\n lower:{lb_AreaHarvested} \\n upper:{up_AreaHarvested}')"
   ]
  },
  {
   "cell_type": "code",
   "execution_count": null,
   "metadata": {},
   "outputs": [],
   "source": [
    "lb_yield= Q1_Yield - 1.5 * IQR_Yield\n",
    "\n",
    "up_yield= Q3_Yield + 1.5 * IQR_Yield\n",
    "\n",
    "print(f'Yield Outlier \\n lower:{lb_yield} \\n upper:{up_yield}')\n"
   ]
  },
  {
   "cell_type": "code",
   "execution_count": null,
   "metadata": {},
   "outputs": [],
   "source": [
    "lb_Production= Q1_Production - 1.5 * IQR_Production\n",
    "\n",
    "up_Production= Q3_Production + 1.5 * IQR_Production\n",
    "\n",
    "print(f'Production Outlier \\n lower:{lb_Production} \\n upper:{up_Production}')\n"
   ]
  },
  {
   "cell_type": "code",
   "execution_count": 171,
   "metadata": {},
   "outputs": [],
   "source": [
    "FOA_outlier_data=FOA_Data_final"
   ]
  },
  {
   "cell_type": "code",
   "execution_count": null,
   "metadata": {},
   "outputs": [],
   "source": [
    "FOA_outlier_data[\"AreaHarvested_outlier\"]=(FOA_outlier_data['Area harvested'] < lb_AreaHarvested) | (FOA_outlier_data['Area harvested'] > up_AreaHarvested)"
   ]
  },
  {
   "cell_type": "code",
   "execution_count": null,
   "metadata": {},
   "outputs": [],
   "source": [
    "# Filtering columns Outlier == True\n",
    "AreaHarvested_outlier=FOA_outlier_data[FOA_outlier_data['AreaHarvested_outlier']==True]\n",
    "AreaHarvested_outlier"
   ]
  },
  {
   "cell_type": "code",
   "execution_count": null,
   "metadata": {},
   "outputs": [],
   "source": [
    "FOA_outlier_data[\"yield_outlier\"]=(FOA_outlier_data['Yield'] < lb_yield) | (FOA_outlier_data['Yield'] > up_yield)"
   ]
  },
  {
   "cell_type": "code",
   "execution_count": null,
   "metadata": {},
   "outputs": [],
   "source": [
    "# Filtering columns Outlier == True\n",
    "yield_outlier=FOA_outlier_data[FOA_outlier_data['yield_outlier']==True]"
   ]
  },
  {
   "cell_type": "code",
   "execution_count": null,
   "metadata": {},
   "outputs": [],
   "source": [
    "FOA_outlier_data[\"Production_outlier\"]=(FOA_outlier_data['Production'] < lb_Production) | (FOA_outlier_data['Production'] > up_Production)"
   ]
  },
  {
   "cell_type": "code",
   "execution_count": null,
   "metadata": {},
   "outputs": [],
   "source": [
    "# Filtering columns Outlier == True\n",
    "Production_outlier=FOA_outlier_data[FOA_outlier_data['Production_outlier']==True]"
   ]
  },
  {
   "cell_type": "code",
   "execution_count": null,
   "metadata": {},
   "outputs": [],
   "source": [
    "fig, axes = plt.subplots(1, 3, figsize=(10, 4))\n",
    "\n",
    "axes[0].boxplot(FOA_outlier_data['Area harvested'])\n",
    "axes[0].set_title('Outlier Area harvested')\n",
    "\n",
    "axes[1].boxplot(FOA_outlier_data['Yield'])\n",
    "axes[1].set_title('Outlier Yield')\n",
    "\n",
    "axes[2].boxplot(FOA_outlier_data['Production'])\n",
    "axes[2].set_title('Outlier Production')\n",
    "\n",
    "plt.tight_layout()\n",
    "plt.show()"
   ]
  },
  {
   "cell_type": "markdown",
   "metadata": {},
   "source": [
    "**Machine Learning(Regression)**"
   ]
  },
  {
   "cell_type": "code",
   "execution_count": null,
   "metadata": {},
   "outputs": [],
   "source": [
    "final_data=FOA_Data_final[['Area','Item','Year','Area harvested','Yield','Production']]"
   ]
  },
  {
   "cell_type": "code",
   "execution_count": null,
   "metadata": {},
   "outputs": [],
   "source": [
    "#Encoding columns with object datatype\n",
    "\n",
    "from sklearn.preprocessing import LabelEncoder\n",
    "\n",
    "lb_en_area=LabelEncoder()\n",
    "lb_en_Item=LabelEncoder()\n",
    "\n",
    "\n",
    "final_data['Area']=lb_en_area.fit_transform(final_data['Area'])\n",
    "final_data['Item']=lb_en_Item.fit_transform(final_data['Item'])\n"
   ]
  },
  {
   "cell_type": "code",
   "execution_count": null,
   "metadata": {},
   "outputs": [],
   "source": [
    "# Splitting data into Features and Target\n",
    "\n",
    "x=final_data.drop(columns='Production',axis=1) #Features\n",
    "y=final_data['Production'] #Target"
   ]
  },
  {
   "cell_type": "code",
   "execution_count": null,
   "metadata": {},
   "outputs": [],
   "source": [
    "# Splitting Features and Target for Training,Testing\n",
    "\n",
    "from sklearn.model_selection import train_test_split\n",
    "x_train,x_test,y_train,y_test=train_test_split(x,y,test_size=0.2,random_state=0)"
   ]
  },
  {
   "cell_type": "code",
   "execution_count": null,
   "metadata": {},
   "outputs": [],
   "source": [
    "#LinearRegression model\n",
    "\n",
    "from sklearn.linear_model import LinearRegression\n",
    "lr=LinearRegression()\n",
    "lr.fit(x_train,y_train)"
   ]
  },
  {
   "cell_type": "code",
   "execution_count": null,
   "metadata": {},
   "outputs": [],
   "source": [
    "#DecisionTreeRegressor model\n",
    "\n",
    "from sklearn.tree import  DecisionTreeRegressor\n",
    "dtr=DecisionTreeRegressor()\n",
    "dtr.fit(x_train,y_train)"
   ]
  },
  {
   "cell_type": "code",
   "execution_count": null,
   "metadata": {},
   "outputs": [],
   "source": [
    "#KNeighborsRegressor model\n",
    "\n",
    "from sklearn.neighbors import KNeighborsRegressor\n",
    "\n",
    "KNN=KNeighborsRegressor(n_neighbors=5)\n",
    "KNN.fit(x_train,y_train)"
   ]
  },
  {
   "cell_type": "code",
   "execution_count": null,
   "metadata": {},
   "outputs": [],
   "source": [
    "#Hyperparameter tuning\n",
    "\n",
    "linear_param={'fit_intercept':[True,False]}\n",
    "\n",
    "decision_param={\"splitter\":['best', 'random'],\"max_depth\":[None,5,10,15,20],\"min_samples_split\":[2,3,4,5,6,7,8,10]}\n",
    "\n",
    "knn_param={'n_neighbors':[5,7,9,12,15,18,20],\"weights\":['uniform','distance']}\n"
   ]
  },
  {
   "cell_type": "code",
   "execution_count": null,
   "metadata": {},
   "outputs": [],
   "source": [
    "#Creating multiple models\n",
    "\n",
    "from sklearn.model_selection import GridSearchCV\n",
    "\n",
    "grid_search_lr=GridSearchCV(lr,linear_param,cv=5)\n",
    "grid_search_dtr=GridSearchCV(dtr,decision_param,cv=5)\n",
    "grid_search_KNN=GridSearchCV(KNN,knn_param,cv=5)"
   ]
  },
  {
   "cell_type": "code",
   "execution_count": null,
   "metadata": {},
   "outputs": [],
   "source": [
    "#Training multiple models\n",
    "\n",
    "grid_search_lr.fit(x_train,y_train)\n",
    "grid_search_dtr.fit(x_train,y_train)\n",
    "grid_search_KNN.fit(x_train,y_train)"
   ]
  },
  {
   "cell_type": "code",
   "execution_count": null,
   "metadata": {},
   "outputs": [],
   "source": [
    "#To find Best parameters for KNeighborsRegressor model\n",
    "grid_search_KNN.best_estimator_"
   ]
  },
  {
   "cell_type": "code",
   "execution_count": null,
   "metadata": {},
   "outputs": [],
   "source": [
    "KNN_grid=KNeighborsRegressor(n_neighbors=7, weights='distance')\n",
    "KNN_grid.fit(x_train,y_train)"
   ]
  },
  {
   "cell_type": "code",
   "execution_count": null,
   "metadata": {},
   "outputs": [],
   "source": [
    "#To find Best parameters for DecisionTreeRegressor model\n",
    "grid_search_dtr.best_estimator_"
   ]
  },
  {
   "cell_type": "code",
   "execution_count": null,
   "metadata": {},
   "outputs": [],
   "source": [
    "grid_dtr=DecisionTreeRegressor(max_depth=15,  min_samples_split=3, splitter='random')\n",
    "grid_dtr.fit(x_train,y_train)"
   ]
  },
  {
   "cell_type": "code",
   "execution_count": null,
   "metadata": {},
   "outputs": [],
   "source": [
    "#DecisionTreeRegressor model \n",
    "grid_dtr1=DecisionTreeRegressor()\n",
    "grid_dtr1.fit(x_train,y_train)"
   ]
  },
  {
   "cell_type": "code",
   "execution_count": null,
   "metadata": {},
   "outputs": [],
   "source": [
    "#RandomForestRegressor model\n",
    "from sklearn.ensemble import RandomForestRegressor\n",
    "rfc=RandomForestRegressor()\n",
    "rfc.fit(x_train,y_train)"
   ]
  },
  {
   "cell_type": "code",
   "execution_count": null,
   "metadata": {},
   "outputs": [],
   "source": [
    "# Error metrics and Scores of the different models\n",
    "\n",
    "from sklearn.metrics import mean_absolute_error\n",
    "\n",
    "y_pred_lr=lr.predict(x_test)\n",
    "lr_score=lr.score(x_test,y_test)\n",
    "linear_mae=mean_absolute_error(y_test,y_pred_lr)\n",
    "\n",
    "y_pred_dtr=dtr.predict(x_test)\n",
    "dtr_score=dtr.score(x_test,y_test)\n",
    "dtr_mae=mean_absolute_error(y_test,y_pred_dtr)\n",
    "\n",
    "y_pred_knn=KNN.predict(x_test)\n",
    "KNN_score=KNN.score(x_test,y_test)\n",
    "knn_mae=mean_absolute_error(y_test,y_pred_knn)\n",
    "\n",
    "\n",
    "y_pred_KNN_grid=KNN_grid.predict(x_test)\n",
    "KNN_grid_score=KNN_grid.score(x_test,y_test)\n",
    "KNN_grid_mae=mean_absolute_error(y_test,y_pred_KNN_grid)\n",
    "\n",
    "\n",
    "y_pred_grid_dtr=grid_dtr.predict(x_test)\n",
    "grid_dtr_score=grid_dtr.score(x_test,y_test)\n",
    "grid_dtr_mae=mean_absolute_error(y_test,y_pred_grid_dtr)\n",
    "\n",
    "y_pred_grid_dtr1=grid_dtr1.predict(x_test)\n",
    "grid_dtr1_score=grid_dtr1.score(x_test,y_test)\n",
    "grid_dtr1_mae=mean_absolute_error(y_test,y_pred_grid_dtr1)\n",
    "\n",
    "y_pred_rfc=rfc.predict(x_test)\n",
    "rfc_score=rfc.score(x_test,y_test)\n",
    "rfc_mae=mean_absolute_error(y_test,y_pred_rfc)\n",
    "\n",
    "\n",
    "print(f' Linear Regression Score:{lr_score},Linear Regression mae : {linear_mae} \\n\\n KNN score : {KNN_score},KNN mae : {knn_mae} \\n\\n  Decition tree score : {dtr_score},Decition tree mae : {dtr_mae} \\n\\n  KNN grid score: {KNN_grid_score},KNN grid mae: {KNN_grid_mae} \\n\\n  Decition tree grid score : {grid_dtr_score},Decition tree grid mae : {grid_dtr_mae} \\n\\n  Decition tree grid1 score : {grid_dtr1_score},Decition tree grid1 mae : {grid_dtr1_mae} \\n\\n  Random forest score : {rfc_score},Random forest mae : {rfc_mae}')\n",
    " \n"
   ]
  },
  {
   "cell_type": "markdown",
   "metadata": {},
   "source": [
    "**Model and Encoder Memory Files**"
   ]
  },
  {
   "cell_type": "code",
   "execution_count": 90,
   "metadata": {},
   "outputs": [],
   "source": [
    "import pickle"
   ]
  },
  {
   "cell_type": "code",
   "execution_count": 91,
   "metadata": {},
   "outputs": [],
   "source": [
    "with open(\"RandomForestRegressor.pkl\",'wb') as RFC_file:\n",
    "    pickle.dump(rfc,RFC_file)"
   ]
  },
  {
   "cell_type": "code",
   "execution_count": 70,
   "metadata": {},
   "outputs": [],
   "source": [
    "\n",
    "with open(\"LabelEncoder_Area.pkl\",'wb') as encoder_file:\n",
    "    pickle.dump(lb_en_area,encoder_file)"
   ]
  },
  {
   "cell_type": "code",
   "execution_count": 71,
   "metadata": {},
   "outputs": [],
   "source": [
    "with open(\"LabelEncoder_Item.pkl\",'wb') as encoder_file:\n",
    "    pickle.dump(lb_en_Item,encoder_file)"
   ]
  }
 ],
 "metadata": {
  "kernelspec": {
   "display_name": "Python 3",
   "language": "python",
   "name": "python3"
  },
  "language_info": {
   "codemirror_mode": {
    "name": "ipython",
    "version": 3
   },
   "file_extension": ".py",
   "mimetype": "text/x-python",
   "name": "python",
   "nbconvert_exporter": "python",
   "pygments_lexer": "ipython3",
   "version": "3.12.8"
  }
 },
 "nbformat": 4,
 "nbformat_minor": 2
}
